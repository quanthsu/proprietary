{
 "cells": [
  {
   "cell_type": "code",
   "execution_count": 118,
   "metadata": {},
   "outputs": [],
   "source": [
    "from tsdb_client import TSDBClient\n",
    "import pandas as pd\n",
    "import trading_calendars as tc\n",
    "import pytz\n",
    "xtai = tc.get_calendar(\"XTAI\")\n",
    "import datetime\n"
   ]
  },
  {
   "cell_type": "code",
   "execution_count": 128,
   "metadata": {},
   "outputs": [],
   "source": [
    "cli = TSDBClient(\n",
    "    host=\"128.110.25.99\",\n",
    "    port=5432,\n",
    "    user=\"chiubj\",\n",
    "    password=\"bunnygood\",\n",
    "    db=\"accountdb\"\n",
    ")"
   ]
  },
  {
   "cell_type": "code",
   "execution_count": 27,
   "metadata": {},
   "outputs": [],
   "source": [
    "strategy_df = cli.execute_query('''\n",
    "SELECT * FROM dealer.strategy\n",
    "''', \n",
    "    out_type='df')"
   ]
  },
  {
   "cell_type": "code",
   "execution_count": 87,
   "metadata": {},
   "outputs": [],
   "source": [
    "trade_df = cli.execute_query('''\n",
    "    select \n",
    "        t_st.name as 策略, \n",
    "        t_pos.code as 代碼,\n",
    "        t_pos.position as 部位,\n",
    "        t_pos.avg_price as 成本價,\n",
    "        t_quote.close as 收盤價,\n",
    "        (position * (close - avg_price))*1000 as 損益, \n",
    "        (close / avg_price - 1) * 100 as \"損益(%)\",\n",
    "        t_pos.trade_date\n",
    "\n",
    "    from (\n",
    "        select \n",
    "            strategy, \n",
    "            code,\n",
    "            trade_date,\n",
    "            sum((case when action = 'B' then 1 else -1 end) * qty) as position,\n",
    "            sum(price*qty) / sum(qty) as avg_price\n",
    "        from dealer.trades\n",
    "        group by strategy, code, trade_date\n",
    "    )t_pos\n",
    "left join public.quote_snapshots t_quote on t_pos.code = t_quote.code\n",
    "left join dealer.strategy t_st on t_pos.strategy = t_st.id \n",
    "\n",
    "order by t_pos.strategy, t_pos.code\n",
    "''', \n",
    "    out_type='df')"
   ]
  },
  {
   "cell_type": "code",
   "execution_count": 88,
   "metadata": {},
   "outputs": [],
   "source": [
    "status_list = []\n",
    "\n",
    "for i in range(len(trade_df)):\n",
    "    if date(datetime.now().year, datetime.now().month, datetime.now().day) == date(trade_df.iloc[i]['trade_date'].year, trade_df.iloc[i]['trade_date'].month, trade_df.iloc[i]['trade_date'].day):\n",
    "        strategy_id = int(strategy_df[strategy_df['name'] == trade_df.iloc[i]['策略']]['id'])\n",
    "        holding_period = int(strategy_df[strategy_df['name'] == trade_df.iloc[i]['策略']]['holding_period'])\n",
    "        in_date = trade_df.iloc[i]['trade_date']\n",
    "        out_date = datetime.date(xtai.sessions_window(pd.Timestamp(in_date.strftime(\"%Y-%m-%d\")), holding_period)[-1])\n",
    "        \n",
    "        status_list.append([strategy_id, 'S', trade_df.iloc[i]['代碼'], trade_df.iloc[i]['成本價'], trade_df.iloc[i]['部位'], in_date, out_date])\n"
   ]
  },
  {
   "cell_type": "code",
   "execution_count": 90,
   "metadata": {},
   "outputs": [],
   "source": [
    "cli.execute_values_df(df = pd.DataFrame(status_list, columns=['strategy', 'security_type', 'code', 'cost', 'qty', 'in_date', 'out_date']), table = 'dealer.status')"
   ]
  },
  {
   "cell_type": "code",
   "execution_count": 111,
   "metadata": {},
   "outputs": [
    {
     "data": {
      "text/html": [
       "<div>\n",
       "<style scoped>\n",
       "    .dataframe tbody tr th:only-of-type {\n",
       "        vertical-align: middle;\n",
       "    }\n",
       "\n",
       "    .dataframe tbody tr th {\n",
       "        vertical-align: top;\n",
       "    }\n",
       "\n",
       "    .dataframe thead th {\n",
       "        text-align: right;\n",
       "    }\n",
       "</style>\n",
       "<table border=\"1\" class=\"dataframe\">\n",
       "  <thead>\n",
       "    <tr style=\"text-align: right;\">\n",
       "      <th></th>\n",
       "      <th>strategy</th>\n",
       "      <th>security_type</th>\n",
       "      <th>code</th>\n",
       "      <th>cost</th>\n",
       "      <th>qty</th>\n",
       "      <th>in_date</th>\n",
       "      <th>out_date</th>\n",
       "    </tr>\n",
       "  </thead>\n",
       "  <tbody>\n",
       "  </tbody>\n",
       "</table>\n",
       "</div>"
      ],
      "text/plain": [
       "Empty DataFrame\n",
       "Columns: [strategy, security_type, code, cost, qty, in_date, out_date]\n",
       "Index: []"
      ]
     },
     "execution_count": 111,
     "metadata": {},
     "output_type": "execute_result"
    }
   ],
   "source": [
    "\n",
    "cli.execute_query(f'''\n",
    "SELECT * FROM dealer.status where out_date = '{datetime.now().strftime(\"%Y-%m-%d\")}'\n",
    "''', out_type='df')\n"
   ]
  },
  {
   "cell_type": "code",
   "execution_count": 130,
   "metadata": {},
   "outputs": [],
   "source": [
    "\n",
    "cur_status = cli.execute_query(f'''\n",
    "SELECT * FROM dealer.status where out_date = '2023-05-23'\n",
    "''', out_type='df')\n"
   ]
  },
  {
   "cell_type": "code",
   "execution_count": 123,
   "metadata": {},
   "outputs": [
    {
     "data": {
      "text/html": [
       "<div>\n",
       "<style scoped>\n",
       "    .dataframe tbody tr th:only-of-type {\n",
       "        vertical-align: middle;\n",
       "    }\n",
       "\n",
       "    .dataframe tbody tr th {\n",
       "        vertical-align: top;\n",
       "    }\n",
       "\n",
       "    .dataframe thead th {\n",
       "        text-align: right;\n",
       "    }\n",
       "</style>\n",
       "<table border=\"1\" class=\"dataframe\">\n",
       "  <thead>\n",
       "    <tr style=\"text-align: right;\">\n",
       "      <th></th>\n",
       "      <th>strategy</th>\n",
       "      <th>security_type</th>\n",
       "      <th>code</th>\n",
       "      <th>cost</th>\n",
       "      <th>qty</th>\n",
       "      <th>in_date</th>\n",
       "      <th>out_date</th>\n",
       "    </tr>\n",
       "  </thead>\n",
       "  <tbody>\n",
       "    <tr>\n",
       "      <th>0</th>\n",
       "      <td>1</td>\n",
       "      <td>S</td>\n",
       "      <td>1504</td>\n",
       "      <td>48.7</td>\n",
       "      <td>13</td>\n",
       "      <td>2023-05-09</td>\n",
       "      <td>2023-05-23</td>\n",
       "    </tr>\n",
       "    <tr>\n",
       "      <th>1</th>\n",
       "      <td>2</td>\n",
       "      <td>S</td>\n",
       "      <td>3479</td>\n",
       "      <td>119.0</td>\n",
       "      <td>2</td>\n",
       "      <td>2023-05-09</td>\n",
       "      <td>2023-05-23</td>\n",
       "    </tr>\n",
       "  </tbody>\n",
       "</table>\n",
       "</div>"
      ],
      "text/plain": [
       "   strategy security_type  code   cost  qty     in_date    out_date\n",
       "0         1             S  1504   48.7   13  2023-05-09  2023-05-23\n",
       "1         2             S  3479  119.0    2  2023-05-09  2023-05-23"
      ]
     },
     "execution_count": 123,
     "metadata": {},
     "output_type": "execute_result"
    }
   ],
   "source": [
    "cur_status"
   ]
  },
  {
   "cell_type": "code",
   "execution_count": 144,
   "metadata": {},
   "outputs": [],
   "source": [
    "cur_contracts_df = cli.execute_query(f'''\n",
    "SELECT * FROM sino.contracts where code = '{row.code}'\n",
    "''', out_type='df')"
   ]
  },
  {
   "cell_type": "code",
   "execution_count": 155,
   "metadata": {},
   "outputs": [],
   "source": [
    "\n",
    "counter = 1\n",
    "sell_signal = []\n",
    "\n",
    "for index, row in cur_status.iterrows():\n",
    "    cur_contracts_df = cli.execute_query(f'''\n",
    "        SELECT * FROM sino.contracts where code = '{row.code}'\n",
    "        ''', out_type='df')\n",
    "    if row.security_type == 'S': security_type = 'Stock' \n",
    "    if row.security_type == 'F': security_type = 'Futures'\n",
    "    action = 'S' if row.qty > 0 else 'B'\n",
    "    sell_signal.append([f'N{counter}', security_type, str(datetime.datetime.now().timestamp()), row.code, 'ROD', action, abs(row.qty), '%.2f'%cur_contracts_df['limit_down'].values[0]])\n",
    "    counter += 1\n",
    "\n"
   ]
  },
  {
   "cell_type": "code",
   "execution_count": 156,
   "metadata": {},
   "outputs": [
    {
     "data": {
      "text/plain": [
       "[['N1', 'Stock', '1684131448.364166', '1504', 'ROD', 'S', 13, '40.95'],\n",
       " ['N2', 'Stock', '1684131448.508667', '3479', 'ROD', 'S', 2, '112.00']]"
      ]
     },
     "execution_count": 156,
     "metadata": {},
     "output_type": "execute_result"
    }
   ],
   "source": [
    "sell_signal"
   ]
  },
  {
   "cell_type": "code",
   "execution_count": null,
   "metadata": {},
   "outputs": [],
   "source": []
  },
  {
   "cell_type": "code",
   "execution_count": null,
   "metadata": {},
   "outputs": [],
   "source": []
  },
  {
   "cell_type": "code",
   "execution_count": null,
   "metadata": {},
   "outputs": [],
   "source": []
  }
 ],
 "metadata": {
  "kernelspec": {
   "display_name": "Python 3.7.0 ('base')",
   "language": "python",
   "name": "python3"
  },
  "language_info": {
   "codemirror_mode": {
    "name": "ipython",
    "version": 3
   },
   "file_extension": ".py",
   "mimetype": "text/x-python",
   "name": "python",
   "nbconvert_exporter": "python",
   "pygments_lexer": "ipython3",
   "version": "3.7.0"
  },
  "orig_nbformat": 4,
  "vscode": {
   "interpreter": {
    "hash": "8447ca19da3ee0aee90e44cfd2e8df4e9a58a16ee661fecf48780de450ea5738"
   }
  }
 },
 "nbformat": 4,
 "nbformat_minor": 2
}
