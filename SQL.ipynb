{
 "cells": [
  {
   "cell_type": "code",
   "execution_count": 7,
   "metadata": {},
   "outputs": [],
   "source": [
    "import psycopg2\n",
    "import pandas as pd\n",
    "from datetime import datetime, date"
   ]
  },
  {
   "cell_type": "code",
   "execution_count": 101,
   "metadata": {},
   "outputs": [],
   "source": [
    "conn = psycopg2.connect(database=\"accountdb\", user=\"chiubj\", \n",
    "                        password=\"bunnygood\", host=\"128.110.25.99\", \n",
    "                        port=\"5432\")\n",
    "cur  = conn.cursor()\n"
   ]
  },
  {
   "cell_type": "code",
   "execution_count": 104,
   "metadata": {},
   "outputs": [],
   "source": [
    "orders = pd.read_csv('status/orders.csv')\n",
    "orders['委託日期'] = pd.to_datetime(orders['委託日期'])\n",
    "trades = pd.read_csv('status/trades.csv')\n",
    "trades['成交日期'] = pd.to_datetime(trades['成交日期'])"
   ]
  },
  {
   "cell_type": "code",
   "execution_count": 102,
   "metadata": {},
   "outputs": [],
   "source": [
    "\n",
    "for order_index in range(len(orders)):\n",
    "    if date(datetime.now().year, datetime.now().month, datetime.now().day) == date(orders.iloc[order_index]['委託日期'].year, orders.iloc[order_index]['委託日期'].month, orders.iloc[order_index]['委託日期'].day):\n",
    "        record = [str(orders.iloc[order_index]['交易員代碼']), orders.iloc[order_index]['委託書號'], orders.iloc[order_index]['交易別'], orders.iloc[order_index]['委託日期'], orders.iloc[order_index]['委託時間'],\n",
    "        str(orders.iloc[order_index]['代碼']), orders.iloc[order_index]['委託種類'], orders.iloc[order_index]['方向'], int(orders.iloc[order_index]['委託部位']), \n",
    "        float(orders.iloc[order_index]['委託價格']), orders.iloc[order_index]['狀態'], str(orders.iloc[order_index]['策略別'])]\n",
    "\n",
    "        table_columns = '(trader_id, order_id, security_type, order_date, order_time, code, order_type, action, order_qty, order_price, status, strategy)'\n",
    "        postgres_insert_query = f\"\"\"INSERT INTO accountdb.dealer.orders {table_columns} VALUES (%s, %s, %s, %s, %s, %s, %s, %s, %s, %s, %s, %s);\"\"\"\n",
    "        cur.execute(postgres_insert_query, record)\n",
    "\n",
    "        conn.commit()\n"
   ]
  },
  {
   "cell_type": "code",
   "execution_count": 113,
   "metadata": {},
   "outputs": [],
   "source": [
    "\n",
    "for trade_index in range(len(trades)):\n",
    "    if date(datetime.now().year, datetime.now().month, datetime.now().day) == date(trades.iloc[trade_index]['成交日期'].year, trades.iloc[trade_index]['成交日期'].month, trades.iloc[trade_index]['成交日期'].day):\n",
    "        record = [str(trades.iloc[trade_index]['交易員代碼']), trades.iloc[trade_index]['委託書號'], trades.iloc[trade_index]['交易別'], trades.iloc[trade_index]['成交日期'], trades.iloc[trade_index]['成交時間'],\n",
    "        str(trades.iloc[trade_index]['代碼']), trades.iloc[trade_index]['委託種類'], trades.iloc[trade_index]['方向'], int(trades.iloc[trade_index]['成交部位']), \n",
    "        float(trades.iloc[trade_index]['成交價格']), trades.iloc[trade_index]['狀態'], str(trades.iloc[trade_index]['策略別']), trades.iloc[trade_index]['成交序號 (seqno)']]\n",
    "\n",
    "        table_columns = '(trader_id, order_id, security_type, trade_date, trade_time, code, order_type, action, qty, price, status, strategy, seqno)'\n",
    "        postgres_insert_query = f\"\"\"INSERT INTO accountdb.dealer.trades {table_columns} VALUES (%s, %s, %s, %s, %s, %s, %s, %s, %s, %s, %s, %s, %s);\"\"\"\n",
    "        cur.execute(postgres_insert_query, record)\n",
    "\n",
    "        conn.commit()\n"
   ]
  },
  {
   "cell_type": "code",
   "execution_count": 134,
   "metadata": {},
   "outputs": [],
   "source": []
  },
  {
   "cell_type": "code",
   "execution_count": 5,
   "metadata": {},
   "outputs": [],
   "source": [
    "def postgre_query(query):\n",
    "    conn = psycopg2.connect(database=\"accountdb\", user=\"chiubj\", \n",
    "                        password=\"bunnygood\", host=\"128.110.25.99\", \n",
    "                        port=\"5432\")\n",
    "    cur  = conn.cursor()\n",
    "\n",
    "    cur.execute(query)\n",
    "    conn.commit()\n",
    "    cur.close()\n",
    "    conn.close()"
   ]
  },
  {
   "cell_type": "code",
   "execution_count": 145,
   "metadata": {},
   "outputs": [],
   "source": [
    "postgre_query(\"ALTER TABLE accountdb.dealer.trades ADD order_type char(3);\")"
   ]
  },
  {
   "cell_type": "code",
   "execution_count": 9,
   "metadata": {},
   "outputs": [],
   "source": [
    "postgre_query(\"ALTER TABLE accountdb.dealer.strategy ADD order_low_ratio double precision;\")"
   ]
  },
  {
   "cell_type": "code",
   "execution_count": 125,
   "metadata": {},
   "outputs": [],
   "source": [
    "table_column = 'code'\n",
    "postgres_delete_query = f\"\"\"DELETE FROM accountdb.dealer.orders where {table_column} = %s;\"\"\"\n",
    "delete_params = ('6414',)\n",
    "cur.execute(postgres_delete_query, delete_params)\n",
    "conn.commit()"
   ]
  },
  {
   "cell_type": "code",
   "execution_count": 131,
   "metadata": {},
   "outputs": [],
   "source": [
    "import json\n",
    "\n",
    "with open('./settings/strategy_info.json', \"r\") as f:\n",
    "    strategy_info = json.load(f)\n",
    "    "
   ]
  },
  {
   "cell_type": "code",
   "execution_count": 132,
   "metadata": {},
   "outputs": [
    {
     "data": {
      "text/plain": [
       "{'法說會前主力蠢蠢欲動': {'Leverage_Ratio': 0.64,\n",
       "  'Expected_MDD': 54.0,\n",
       "  'Expected_Daily_Return': 18.74},\n",
       " '注意股10日多': {'Leverage_Ratio': 0.34,\n",
       "  'Expected_MDD': 71.5,\n",
       "  'Expected_Daily_Return': 32.6},\n",
       " '營收首次創新高': {'Leverage_Ratio': 0.17,\n",
       "  'Expected_MDD': 99.04,\n",
       "  'Expected_Daily_Return': -11.21},\n",
       " '籌碼雷達5日多': {'Leverage_Ratio': 0.57,\n",
       "  'Expected_MDD': 55.96,\n",
       "  'Expected_Daily_Return': -18.86},\n",
       " '處置股10日多': {'Leverage_Ratio': 0.4,\n",
       "  'Expected_MDD': 59.06,\n",
       "  'Expected_Daily_Return': 60.12},\n",
       " '開高動能強飆股_1': {'Leverage_Ratio': 0.18,\n",
       "  'Expected_MDD': 73.43,\n",
       "  'Expected_Daily_Return': 23.82}}"
      ]
     },
     "execution_count": 132,
     "metadata": {},
     "output_type": "execute_result"
    }
   ],
   "source": [
    "strategy_info"
   ]
  },
  {
   "cell_type": "code",
   "execution_count": 137,
   "metadata": {},
   "outputs": [],
   "source": [
    "\n",
    "for strategy in strategy_info:\n",
    "    postgre_query(f\"UPDATE accountdb.dealer.strategy SET Leverage_Ratio = {strategy_info[strategy]['Leverage_Ratio']} WHERE Name = '{strategy}';\")\n",
    "    postgre_query(f\"UPDATE accountdb.dealer.strategy SET Expected_MDD = {strategy_info[strategy]['Expected_MDD']} WHERE Name = '{strategy}';\")\n",
    "    postgre_query(f\"UPDATE accountdb.dealer.strategy SET Expected_Daily_Return = {strategy_info[strategy]['Expected_Daily_Return']} WHERE Name = '{strategy}';\")\n"
   ]
  },
  {
   "cell_type": "code",
   "execution_count": 53,
   "metadata": {},
   "outputs": [],
   "source": [
    "postgre_query(f\"UPDATE accountdb.dealer.strategy SET Leverage_Ratio = {strategy_info[strategy]['Leverage_Ratio']} WHERE Name = '{strategy}';\")"
   ]
  },
  {
   "cell_type": "code",
   "execution_count": 49,
   "metadata": {},
   "outputs": [],
   "source": [
    "postgre_query(f\"UPDATE accountdb.dealer.strategy SET Leverage_Ratio = {strategy_info[strategy]['Leverage_Ratio']} WHERE na = 1;\")"
   ]
  },
  {
   "cell_type": "code",
   "execution_count": 42,
   "metadata": {},
   "outputs": [
    {
     "name": "stdout",
     "output_type": "stream",
     "text": [
      "法說會前主力蠢蠢欲動\n",
      "注意股10日多\n",
      "營收首次創新高\n",
      "籌碼雷達5日多\n",
      "處置股10日多\n",
      "開高動能強飆股_1\n"
     ]
    }
   ],
   "source": [
    "for strategy in strategy_info:\n",
    "    print(strategy)"
   ]
  },
  {
   "cell_type": "code",
   "execution_count": 60,
   "metadata": {},
   "outputs": [],
   "source": [
    "from tsdb_client import TSDBClient"
   ]
  },
  {
   "cell_type": "code",
   "execution_count": 61,
   "metadata": {},
   "outputs": [],
   "source": [
    "cli = TSDBClient(\n",
    "    host=\"128.110.25.99\",\n",
    "    port=5432,\n",
    "    user=\"chiubj\",\n",
    "    password=\"bunnygood\",\n",
    "    db=\"accountdb\"\n",
    ")"
   ]
  },
  {
   "cell_type": "code",
   "execution_count": 11,
   "metadata": {},
   "outputs": [
    {
     "data": {
      "text/html": [
       "<div>\n",
       "<style scoped>\n",
       "    .dataframe tbody tr th:only-of-type {\n",
       "        vertical-align: middle;\n",
       "    }\n",
       "\n",
       "    .dataframe tbody tr th {\n",
       "        vertical-align: top;\n",
       "    }\n",
       "\n",
       "    .dataframe thead th {\n",
       "        text-align: right;\n",
       "    }\n",
       "</style>\n",
       "<table border=\"1\" class=\"dataframe\">\n",
       "  <thead>\n",
       "    <tr style=\"text-align: right;\">\n",
       "      <th></th>\n",
       "      <th>strategy</th>\n",
       "      <th>code</th>\n",
       "      <th>position</th>\n",
       "      <th>avg_price</th>\n",
       "    </tr>\n",
       "  </thead>\n",
       "  <tbody>\n",
       "    <tr>\n",
       "      <th>0</th>\n",
       "      <td>1</td>\n",
       "      <td>2412</td>\n",
       "      <td>5</td>\n",
       "      <td>126.5</td>\n",
       "    </tr>\n",
       "    <tr>\n",
       "      <th>1</th>\n",
       "      <td>1</td>\n",
       "      <td>6414</td>\n",
       "      <td>2</td>\n",
       "      <td>257.5</td>\n",
       "    </tr>\n",
       "  </tbody>\n",
       "</table>\n",
       "</div>"
      ],
      "text/plain": [
       "   strategy  code  position  avg_price\n",
       "0         1  2412         5      126.5\n",
       "1         1  6414         2      257.5"
      ]
     },
     "execution_count": 11,
     "metadata": {},
     "output_type": "execute_result"
    }
   ],
   "source": [
    "# position\n",
    "cli.execute_query(\"\"\"\n",
    "    select \n",
    "        strategy, \n",
    "        code,\n",
    "        sum((case when action = 'B' then 1 else -1 end) * qty) as position,\n",
    "        sum(price*qty) / sum(qty) as avg_price\n",
    "    from dealer.trades\n",
    "    group by strategy, code\n",
    "    \"\"\", \n",
    "    out_type='df'\n",
    ")"
   ]
  },
  {
   "cell_type": "code",
   "execution_count": 54,
   "metadata": {},
   "outputs": [
    {
     "name": "stdout",
     "output_type": "stream",
     "text": [
      "Error: relation \"strategy_pl\" already exists\n",
      "\n"
     ]
    }
   ],
   "source": [
    "# profit and loss\n",
    "df = cli.execute_query(\"\"\"\n",
    "\n",
    "    select t_st.name as 策略, \n",
    "        t_pos.code as 代碼,\n",
    "        t_pos.position as 部位,\n",
    "        t_pos.avg_price as 成本價,\n",
    "        t_quote.close as 收盤價,\n",
    "        ROUND(position * (close - avg_price))*1000 as 損益 into strategy_pl\n",
    "    from (\n",
    "        select \n",
    "            strategy, \n",
    "            code,\n",
    "            sum((case when action = 'B' then 1 else -1 end) * qty) as position,\n",
    "            sum(price*qty) / sum(qty) as avg_price\n",
    "        from dealer.trades\n",
    "        group by strategy, code\n",
    "    )t_pos\n",
    "    left join public.quote_snapshots t_quote on t_pos.code = t_quote.code\n",
    "    left join dealer.strategy t_st on t_pos.strategy = t_st.id \n",
    "\n",
    "    \"\"\"\n",
    ")"
   ]
  },
  {
   "cell_type": "code",
   "execution_count": 70,
   "metadata": {},
   "outputs": [
    {
     "data": {
      "text/plain": [
       "0"
      ]
     },
     "execution_count": 70,
     "metadata": {},
     "output_type": "execute_result"
    }
   ],
   "source": [
    "cli.execute_query('''\n",
    "\n",
    "create TEMP TABLE tb_trade\n",
    "( \n",
    "\tSN int --流水編號\n",
    "\t,PID varchar(10) --商品代碼\n",
    "\t,TranDate date --交易日期\n",
    "\t,TranCode char(3) --交易種類 \n",
    "\t,Qty int\n",
    "\t,Price decimal(10,3)\n",
    "\t,CurrentQty int  --累計庫存(檢核用)\n",
    "\t,CurrentValue decimal(10,3) --累計成本(檢核用)\n",
    ")\n",
    "\t\n",
    "\n",
    "''')"
   ]
  },
  {
   "cell_type": "code",
   "execution_count": 44,
   "metadata": {},
   "outputs": [],
   "source": [
    "# profit and loss\n",
    "df = cli.execute_query(\"\"\"\n",
    "    select *,\n",
    "    sum(price_sold - price_purchased) over(order by rn) as profit \n",
    "from\n",
    "    (\n",
    "        select \n",
    "            row_number() over(order by trade_date, code) as rn,\n",
    "            (case when action = 'B' then 1 else -1 end) * qty as position,\n",
    "            code, price as price_purchased\n",
    "        from dealer.trades, generate_series(1, abs(qty))\n",
    "        where (case when action = 'B' then 1 else -1 end) > 0\n",
    "    ) p\n",
    "    full join\n",
    "    (\n",
    "        select\n",
    "            row_number() over(order by trade_date, code) as rn,\n",
    "            ((case when action = 'B' then 1 else -1 end) * qty) as position,\n",
    "            code, price as price_sold\n",
    "        from dealer.trades, generate_series(1, abs(qty))\n",
    "        where (case when action = 'B' then 1 else -1 end) < 0\n",
    "    ) s using (rn, code)\n",
    "    \n",
    "    \"\"\", \n",
    "    out_type='df'\n",
    ")"
   ]
  }
 ],
 "metadata": {
  "kernelspec": {
   "display_name": "Python 3.7.0 ('base')",
   "language": "python",
   "name": "python3"
  },
  "language_info": {
   "codemirror_mode": {
    "name": "ipython",
    "version": 3
   },
   "file_extension": ".py",
   "mimetype": "text/x-python",
   "name": "python",
   "nbconvert_exporter": "python",
   "pygments_lexer": "ipython3",
   "version": "3.7.0"
  },
  "orig_nbformat": 4,
  "vscode": {
   "interpreter": {
    "hash": "8447ca19da3ee0aee90e44cfd2e8df4e9a58a16ee661fecf48780de450ea5738"
   }
  }
 },
 "nbformat": 4,
 "nbformat_minor": 2
}
