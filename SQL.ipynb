{
 "cells": [
  {
   "cell_type": "code",
   "execution_count": 55,
   "metadata": {},
   "outputs": [],
   "source": [
    "import psycopg2\n",
    "import pandas as pd"
   ]
  },
  {
   "cell_type": "code",
   "execution_count": 96,
   "metadata": {},
   "outputs": [],
   "source": [
    "conn = psycopg2.connect(database=\"accountdb\", user=\"chiubj\", \n",
    "                        password=\"bunnygood\", host=\"128.110.25.99\", \n",
    "                        port=\"5432\")\n",
    "cur  = conn.cursor()\n"
   ]
  },
  {
   "cell_type": "code",
   "execution_count": 163,
   "metadata": {},
   "outputs": [],
   "source": [
    "orders = pd.read_csv('status/orders.csv')\n",
    "trades = pd.read_csv('status/trades.csv')"
   ]
  },
  {
   "cell_type": "code",
   "execution_count": null,
   "metadata": {},
   "outputs": [],
   "source": [
    "\n",
    "for order_index in range(len(orders)):\n",
    "    record = [str(orders.iloc[order_index]['交易員代碼']), orders.iloc[order_index]['委託書號'], orders.iloc[order_index]['交易別'], orders.iloc[order_index]['委託日期'], orders.iloc[order_index]['委託時間'],\n",
    "    str(orders.iloc[order_index]['代碼']), orders.iloc[order_index]['委託種類'], orders.iloc[order_index]['方向'], int(orders.iloc[order_index]['委託部位']), \n",
    "    float(orders.iloc[order_index]['委託價格']), orders.iloc[order_index]['狀態'], str(orders.iloc[order_index]['策略別'])]\n",
    "\n",
    "    table_columns = '(trader_id, order_id, security_type, order_date, order_time, code, order_type, action, order_qty, order_price, status, strategy)'\n",
    "    postgres_insert_query = f\"\"\"INSERT INTO accountdb.dealer.orders {table_columns} VALUES (%s, %s, %s, %s, %s, %s, %s, %s, %s, %s, %s, %s);\"\"\"\n",
    "    cur.execute(postgres_insert_query, record)\n",
    "\n",
    "    conn.commit()\n"
   ]
  },
  {
   "cell_type": "code",
   "execution_count": 165,
   "metadata": {},
   "outputs": [],
   "source": [
    "\n",
    "for trade_index in range(len(trades)):\n",
    "    record = [str(trades.iloc[trade_index]['交易員代碼']), trades.iloc[trade_index]['委託書號'], trades.iloc[trade_index]['交易別'], trades.iloc[trade_index]['成交日期'], trades.iloc[trade_index]['成交時間'],\n",
    "    str(trades.iloc[trade_index]['代碼']), trades.iloc[trade_index]['委託種類'], trades.iloc[trade_index]['方向'], int(trades.iloc[trade_index]['成交部位']), \n",
    "    float(trades.iloc[trade_index]['成交價格']), trades.iloc[trade_index]['狀態'], str(trades.iloc[trade_index]['策略別']), trades.iloc[trade_index]['成交序號 (seqno)']]\n",
    "\n",
    "    table_columns = '(trader_id, order_id, security_type, trade_date, trade_time, code, order_type, action, qty, price, status, strategy, seqno)'\n",
    "    postgres_insert_query = f\"\"\"INSERT INTO accountdb.dealer.trades {table_columns} VALUES (%s, %s, %s, %s, %s, %s, %s, %s, %s, %s, %s, %s, %s);\"\"\"\n",
    "    cur.execute(postgres_insert_query, record)\n",
    "\n",
    "    conn.commit()\n"
   ]
  },
  {
   "cell_type": "code",
   "execution_count": 134,
   "metadata": {},
   "outputs": [],
   "source": []
  },
  {
   "cell_type": "code",
   "execution_count": 141,
   "metadata": {},
   "outputs": [],
   "source": [
    "def postgre_query(query):\n",
    "    cur.execute(query)\n",
    "    conn.commit()"
   ]
  },
  {
   "cell_type": "code",
   "execution_count": 145,
   "metadata": {},
   "outputs": [],
   "source": [
    "postgre_query(\"ALTER TABLE accountdb.dealer.trades ADD order_type char(3);\")"
   ]
  },
  {
   "cell_type": "code",
   "execution_count": 125,
   "metadata": {},
   "outputs": [],
   "source": [
    "table_column = 'code'\n",
    "postgres_delete_query = f\"\"\"DELETE FROM accountdb.dealer.orders where {table_column} = %s;\"\"\"\n",
    "delete_params = ('6414',)\n",
    "cur.execute(postgres_delete_query, delete_params)\n",
    "conn.commit()"
   ]
  },
  {
   "cell_type": "code",
   "execution_count": 124,
   "metadata": {},
   "outputs": [],
   "source": []
  },
  {
   "cell_type": "code",
   "execution_count": 67,
   "metadata": {},
   "outputs": [],
   "source": [
    "cur.close()\n",
    "conn.close()"
   ]
  },
  {
   "attachments": {},
   "cell_type": "markdown",
   "metadata": {},
   "source": [
    "\n",
    "create_table_query = '''CREATE TABLE accountdb.dealer.orders(\n",
    "        trader_id varchar(10),\n",
    "        broker_id varchar(7),\n",
    "        account_id varchar(7),\n",
    "        strategy INT,\n",
    "        order_id varchar(10),\n",
    "        security_type char(1), -- S, F\n",
    "        order_date date,\n",
    "        order_time time,\n",
    "        code varchar(10),\n",
    "        action char(1), -- B, S\n",
    "        order_price double precision,\n",
    "        order_qty int,\n",
    "        order_type varchar(3), -- ROD, IOC, FOK\n",
    "        price_type varchar(3), -- LMT, MKT, MOP\n",
    "        status varchar(10),\n",
    "        CONSTRAINT fk_strategy FOREIGN KEY(strategy) REFERENCES dealer.strategy(id)\n",
    "    );'''\n",
    "\n",
    "\n",
    "CREATE TABLE accountdb.dealer.trades(\n",
    "\n",
    "    trader_id varchar(10),\n",
    "\n",
    "    broker_id varchar(7),\n",
    "\n",
    "    account_id varchar(7),\n",
    "\n",
    "    strategy INT,\n",
    "\n",
    "    order_id varchar(10),\n",
    "\n",
    "    seqno varchar(12),\n",
    "\n",
    "    security_type char(1), -- S, F\n",
    "\n",
    "    trade_date date,\n",
    "\n",
    "    trade_time time,\n",
    "\n",
    "    code varchar(10),\n",
    "\n",
    "    action char(1), -- B, S\n",
    "\n",
    "    price double precision,\n",
    "\n",
    "    qty int,\n",
    "\n",
    "    status varchar(10),\n",
    "\n",
    "    CONSTRAINT fk_strategy FOREIGN KEY(strategy) REFERENCES dealer.strategy(id)\n",
    "\n",
    ");\n",
    "\n",
    "cursor.execute(create_table_query)\n",
    "conn.commit()\n",
    "\n",
    "cursor.close()\n",
    "conn.close()\n",
    "\n",
    "\n",
    "cur = conn.cursor()\n",
    "cur.execute(\"ROLLBACK\")\n",
    "conn.commit()\n",
    "\n"
   ]
  }
 ],
 "metadata": {
  "kernelspec": {
   "display_name": "Python 3.7.0 ('base')",
   "language": "python",
   "name": "python3"
  },
  "language_info": {
   "codemirror_mode": {
    "name": "ipython",
    "version": 3
   },
   "file_extension": ".py",
   "mimetype": "text/x-python",
   "name": "python",
   "nbconvert_exporter": "python",
   "pygments_lexer": "ipython3",
   "version": "3.7.0"
  },
  "orig_nbformat": 4,
  "vscode": {
   "interpreter": {
    "hash": "8447ca19da3ee0aee90e44cfd2e8df4e9a58a16ee661fecf48780de450ea5738"
   }
  }
 },
 "nbformat": 4,
 "nbformat_minor": 2
}
