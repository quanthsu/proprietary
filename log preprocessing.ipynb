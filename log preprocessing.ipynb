{
 "cells": [
  {
   "cell_type": "code",
   "execution_count": 15,
   "metadata": {},
   "outputs": [],
   "source": [
    "import numpy as np \n",
    "import pandas as pd\n",
    "import glob\n",
    "import math\n",
    "import datetime\n",
    "import trading_calendars as tc\n",
    "import pytz\n",
    "xtai = tc.get_calendar(\"XTAI\")\n",
    "\n",
    "from utils import Config, check_folder_path_exist\n",
    "\n",
    "config = Config()\n",
    "\n",
    "xq_stock_id_index = 1\n",
    "xq_order_type_index = 2\n",
    "xq_buy_or_sell_index = 3\n",
    "xq_lots_index = 4\n",
    "xq_order_price_index = 5\n"
   ]
  },
  {
   "cell_type": "code",
   "execution_count": null,
   "metadata": {},
   "outputs": [],
   "source": []
  },
  {
   "cell_type": "code",
   "execution_count": 30,
   "metadata": {},
   "outputs": [],
   "source": [
    "\n",
    "counter = 1\n",
    "\n",
    "for xq_output_path in config.xq_output_paths:\n",
    "\n",
    "    strategy_file_name = xq_output_path.split('\\\\')[-1]\n",
    "    strategy_name = strategy_file_name[9:-6]\n",
    "    slr = config.strategy_info[strategy_name]['Leverage_Ratio']\n",
    "    holding_period = int(config.strategy_config[strategy_name]['holding_period'])\n",
    "    start_date = datetime.datetime.now().strftime(\"%Y-%m-%d\")\n",
    "    end_date = xtai.sessions_window(pd.Timestamp(start_date), holding_period)[-1].strftime(\"%Y-%m-%d\")\n",
    "    \n",
    "    strategy_print_path = f\"{config.signal_print_path}{strategy_name}\"\n",
    "    check_folder_path_exist(strategy_print_path)\n",
    "\n",
    "    f_buy = open(f\"{strategy_print_path}\\Buy.log\", 'a+')\n",
    "    f_sell = open(f\"{strategy_print_path}\\Sell.log\", 'a+')\n",
    "    \n",
    "    status = open(f\"{config.strategy_status_path}{strategy_name}.txt\", 'a+')\n",
    "    \n",
    "    with open(xq_output_path, 'r') as f:\n",
    "        for line in f:\n",
    "            cur_line = line.split(' ')\n",
    "            slr_lots = str(math.floor(float(cur_line[xq_lots_index]) * slr)) \n",
    "            status_list = [cur_line[xq_stock_id_index][:-3], cur_line[xq_buy_or_sell_index], slr_lots, start_date, end_date, '\\n']\n",
    "            output_list = [f\"N{counter}\", \"Stock\", str(datetime.datetime.now().timestamp()), cur_line[xq_stock_id_index][:-3], cur_line[xq_order_type_index], \n",
    "            cur_line[xq_buy_or_sell_index], slr_lots, cur_line[xq_order_price_index]]\n",
    "            \n",
    "            if cur_line[xq_buy_or_sell_index] == 'B':\n",
    "                f_buy.write(','.join(output_list) + '\\n')\n",
    "            elif cur_line[xq_buy_or_sell_index] == 'S':\n",
    "                f_sell.write(','.join(output_list) + '\\n')\n",
    "            else:\n",
    "                raise Exception('Invalid buy or sell signal')\n",
    "            \n",
    "            status.write(' '.join(status_list))\n",
    "            counter += 1\n",
    "\n",
    "    f_buy.close()\n",
    "    f_sell.close()\n",
    "    status.close()\n",
    "    "
   ]
  },
  {
   "cell_type": "code",
   "execution_count": 10,
   "metadata": {},
   "outputs": [],
   "source": [
    "status_stock_id_index = 0\n",
    "status_buy_or_sell_index = 1\n",
    "status_lots_index = 2\n",
    "status_in_date_index = 3\n",
    "status_expected_out_date_index = 4"
   ]
  },
  {
   "cell_type": "code",
   "execution_count": 31,
   "metadata": {},
   "outputs": [],
   "source": [
    "\n",
    "with open(f\"{config.strategy_status_path}{strategy_name}.txt\", \"r+\") as status_f:\n",
    "    f_sell = open(f\"{strategy_print_path}\\Sell.log\", 'a+')\n",
    "    status_lines = status_f.readlines()\n",
    "    status_f.seek(0)\n",
    "    for line in status_lines:\n",
    "        cur_line = line.split(' ')\n",
    "        if datetime.datetime.now().strftime(\"%Y-%m-%d\") == cur_line[status_expected_out_date_index]:\n",
    "                \n",
    "            f_sell.write(' '.join(cur_line))\n",
    "            status_f.write(line)\n",
    "    status_f.truncate()\n",
    "    f_sell.close()"
   ]
  },
  {
   "cell_type": "code",
   "execution_count": 8,
   "metadata": {},
   "outputs": [],
   "source": [
    "strategy_name = '法說會前主力蠢蠢欲動'"
   ]
  },
  {
   "cell_type": "code",
   "execution_count": 24,
   "metadata": {},
   "outputs": [
    {
     "data": {
      "text/plain": [
       "'C:\\\\proprietary\\\\print\\\\開高動能強飆股_1'"
      ]
     },
     "execution_count": 24,
     "metadata": {},
     "output_type": "execute_result"
    }
   ],
   "source": [
    "strategy_print_path"
   ]
  },
  {
   "cell_type": "code",
   "execution_count": 32,
   "metadata": {},
   "outputs": [
    {
     "data": {
      "text/plain": [
       "['6148', 'B', '5', '2023-04-28', '2023-04-28', '\\n']"
      ]
     },
     "execution_count": 32,
     "metadata": {},
     "output_type": "execute_result"
    }
   ],
   "source": [
    "cur_line"
   ]
  }
 ],
 "metadata": {
  "kernelspec": {
   "display_name": "Python 3.7.0 ('base')",
   "language": "python",
   "name": "python3"
  },
  "language_info": {
   "codemirror_mode": {
    "name": "ipython",
    "version": 3
   },
   "file_extension": ".py",
   "mimetype": "text/x-python",
   "name": "python",
   "nbconvert_exporter": "python",
   "pygments_lexer": "ipython3",
   "version": "3.7.0"
  },
  "orig_nbformat": 4,
  "vscode": {
   "interpreter": {
    "hash": "8447ca19da3ee0aee90e44cfd2e8df4e9a58a16ee661fecf48780de450ea5738"
   }
  }
 },
 "nbformat": 4,
 "nbformat_minor": 2
}
