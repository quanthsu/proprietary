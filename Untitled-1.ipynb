{
 "cells": [
  {
   "cell_type": "code",
   "execution_count": 25,
   "metadata": {},
   "outputs": [],
   "source": [
    "import numpy as np \n",
    "import pandas as pd\n",
    "import glob\n",
    "import math\n",
    "import datetime\n",
    "import trading_calendars as tc\n",
    "import pytz\n",
    "xtai = tc.get_calendar(\"XTAI\")\n",
    "\n",
    "from utils import Config, check_folder_path_exist\n",
    "\n",
    "config = Config()\n",
    "\n",
    "stock_id_index = 2 \n",
    "lots_index = -2\n",
    "buy_or_sell_index = -3\n"
   ]
  },
  {
   "cell_type": "code",
   "execution_count": null,
   "metadata": {},
   "outputs": [],
   "source": [
    "\n",
    "for xq_output_path in config.xq_output_paths:\n",
    "\n",
    "    strategy_file_name = xq_output_path.split('\\\\')[-1]\n",
    "    strategy_name = strategy_file_name[9:-6]\n",
    "    slr = config.strategy_info[strategy_name]['Leverage_Ratio']\n",
    "    holding_period = int(config.strategy_config[strategy_name]['holding_period'])\n",
    "    start_date = datetime.datetime.now().strftime(\"%Y-%m-%d\")\n",
    "    end_date = xtai.sessions_window(pd.Timestamp(start_date), holding_period)[-1].strftime(\"%Y-%m-%d\")\n",
    "    \n",
    "    strategy_print_path = f\"{config.signal_print_path}{strategy_name}\"\n",
    "    check_folder_path_exist(strategy_print_path)\n",
    "\n",
    "    f_buy = open(f\"{strategy_print_path}\\Buy.log\", 'a+')\n",
    "    f_sell = open(f\"{strategy_print_path}\\Sell.log\", 'a+')\n",
    "    \n",
    "    status = open(f\"{config.strategy_status_path}{strategy_name}.txt\", 'a+')\n",
    "    \n",
    "    with open(xq_output_path, 'r') as f:\n",
    "        for line in f:\n",
    "            cur_line = line.split(' ')\n",
    "            slr_lots = str(math.floor(float(cur_line[lots_index]) * slr))\n",
    "            cur_line[lots_index] = slr_lots + '.000000'\n",
    "            status_list = [cur_line[stock_id_index][:-3], cur_line[buy_or_sell_index], slr_lots, start_date, end_date, '\\n']\n",
    "            if cur_line[buy_or_sell_index] == 'B':\n",
    "                f_buy.write(' '.join(cur_line))\n",
    "            elif cur_line[buy_or_sell_index] == 'S':\n",
    "                f_sell.write(' '.join(cur_line))\n",
    "            else:\n",
    "                raise Exception('Invalid buy or sell signal')\n",
    "            \n",
    "            status.write(' '.join(status_list))\n",
    "\n",
    "    f_buy.close()\n",
    "    f_sell.close()\n",
    "    status.close()\n",
    "    "
   ]
  },
  {
   "cell_type": "code",
   "execution_count": null,
   "metadata": {},
   "outputs": [],
   "source": [
    "now_date_str = datetime.datetime.now().strftime(\"%Y%m%d\")\n",
    "now_time_str = datetime.datetime.now().strftime(\"%H%M%S\")\n",
    "f\"{now_date_str}.000000 {now_time_str}.000000 {cur_line[status_stock_id_index]}.TW  \"\n"
   ]
  },
  {
   "cell_type": "code",
   "execution_count": null,
   "metadata": {},
   "outputs": [],
   "source": [
    "def status_line_to_log(line):\n",
    "    return f\"\""
   ]
  },
  {
   "cell_type": "code",
   "execution_count": 40,
   "metadata": {},
   "outputs": [],
   "source": [
    "status_stock_id_index = 0\n",
    "status_buy_or_sell_index = 1\n",
    "status_lots_index = 2\n",
    "status_in_date_index = 3\n",
    "status_expected_out_date_index = 4"
   ]
  },
  {
   "cell_type": "code",
   "execution_count": 37,
   "metadata": {},
   "outputs": [
    {
     "data": {
      "text/plain": [
       "<_io.TextIOWrapper name='C:\\\\proprietary\\\\print\\\\法說會前主力蠢蠢欲動\\\\Sell.log' mode='a+' encoding='cp950'>"
      ]
     },
     "execution_count": 37,
     "metadata": {},
     "output_type": "execute_result"
    }
   ],
   "source": []
  },
  {
   "cell_type": "code",
   "execution_count": 33,
   "metadata": {},
   "outputs": [],
   "source": [
    "\n",
    "with open(f\"{config.strategy_status_path}{strategy_name}.txt\", \"r+\") as status_f:\n",
    "    status_lines = status_f.readlines()\n",
    "    status_f.seek(0)\n",
    "    for line in status_lines:\n",
    "        cur_line = line.split(' ')\n",
    "        if datetime.datetime.now().strftime(\"%Y-%m-%d\") != cur_line[expected_out_date_index]:\n",
    "            f_sell.write(' '.join(cur_line))\n",
    "            status_f.write(line)\n",
    "    status_f.truncate()\n"
   ]
  },
  {
   "cell_type": "code",
   "execution_count": 42,
   "metadata": {},
   "outputs": [],
   "source": [
    "status_f = open(f\"{config.strategy_status_path}{strategy_name}.txt\", \"r+\")"
   ]
  },
  {
   "cell_type": "code",
   "execution_count": 43,
   "metadata": {},
   "outputs": [
    {
     "name": "stdout",
     "output_type": "stream",
     "text": [
      "2352 B 20 2023-04-27 2023-04-27 \n",
      "\n",
      "6412 B 8 2023-04-27 2023-04-27 \n",
      "\n"
     ]
    }
   ],
   "source": [
    "for status_line in status_f:\n",
    "    print(line)"
   ]
  },
  {
   "cell_type": "code",
   "execution_count": 16,
   "metadata": {},
   "outputs": [],
   "source": [
    "#backup\n",
    "\n",
    "nowtime_str = datetime.datetime.now().strftime(\"%Y%m%d\")\n",
    "nowtime_path = f\"{config.signal_print_backup_path}{nowtime_str}\"\n",
    "check_folder_path_exist(nowtime_path)\n",
    "\n",
    "def backup(strategy_print_path, backup_path, buy_or_sell_type):\n",
    "        \n",
    "    fw = open(f\"{backup_path}\\{buy_or_sell_type}.log\", 'w')\n",
    "    with open(f\"{strategy_print_path}\\{buy_or_sell_type}.log\", 'r+') as fr:\n",
    "        for line in fr:\n",
    "            fw.write(line)\n",
    "        fr.truncate(0)\n",
    "\n",
    "    fr.close()\n",
    "    fw.close()\n",
    "\n",
    "for xq_output_path in config.xq_output_paths:\n",
    "    strategy_file_name = xq_output_path.split('\\\\')[-1]\n",
    "    strategy_name = strategy_file_name[9:-6]\n",
    "    \n",
    "    strategy_print_path = f\"{config.signal_print_path}{strategy_name}\"\n",
    "    strategy_backup_path = f\"{nowtime_path}\\{strategy_name}\"\n",
    "    check_folder_path_exist(strategy_backup_path)\n",
    "    \n",
    "    backup(strategy_print_path, strategy_backup_path, 'Buy')\n",
    "    backup(strategy_print_path, strategy_backup_path, 'Sell')\n"
   ]
  },
  {
   "cell_type": "code",
   "execution_count": 20,
   "metadata": {},
   "outputs": [],
   "source": [
    "for xq_output_path in glob.glob(f'{config.xq_output_path}*'):\n",
    "    os.remove(xq_output_path)"
   ]
  },
  {
   "cell_type": "code",
   "execution_count": 41,
   "metadata": {},
   "outputs": [],
   "source": []
  },
  {
   "cell_type": "code",
   "execution_count": null,
   "metadata": {},
   "outputs": [],
   "source": []
  }
 ],
 "metadata": {
  "kernelspec": {
   "display_name": "Python 3.7.0 ('base')",
   "language": "python",
   "name": "python3"
  },
  "language_info": {
   "codemirror_mode": {
    "name": "ipython",
    "version": 3
   },
   "file_extension": ".py",
   "mimetype": "text/x-python",
   "name": "python",
   "nbconvert_exporter": "python",
   "pygments_lexer": "ipython3",
   "version": "3.7.0"
  },
  "orig_nbformat": 4,
  "vscode": {
   "interpreter": {
    "hash": "8447ca19da3ee0aee90e44cfd2e8df4e9a58a16ee661fecf48780de450ea5738"
   }
  }
 },
 "nbformat": 4,
 "nbformat_minor": 2
}
